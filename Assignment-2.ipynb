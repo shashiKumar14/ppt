{
 "cells": [
  {
   "cell_type": "code",
   "execution_count": 3,
   "id": "18285888",
   "metadata": {},
   "outputs": [
    {
     "name": "stdout",
     "output_type": "stream",
     "text": [
      "mean sales for  region A: 11.8\n",
      "mean sales for  region B: 20.2\n"
     ]
    }
   ],
   "source": [
    "'''1. Scenario: A company wants to analyze the sales performance of its products in different regions. \n",
    "   They have collected the following data:\n",
    "   Region A: [10, 15, 12, 8, 14]\n",
    "   Region B: [18, 20, 16, 22, 25]\n",
    "   Calculate the mean sales for each region.\n",
    "'''\n",
    "import numpy as np\n",
    "\n",
    "Region_A=[10, 15, 12, 8, 14]\n",
    "Region_B=[18, 20, 16, 22, 25]\n",
    "print(\"mean sales for  region A:\",np.mean(Region_A))\n",
    "print(\"mean sales for  region B:\",np.mean(Region_B))"
   ]
  },
  {
   "cell_type": "code",
   "execution_count": 7,
   "id": "2b7c18d0",
   "metadata": {},
   "outputs": [
    {
     "name": "stdout",
     "output_type": "stream",
     "text": [
      "the mode of the survey responses is: 4\n"
     ]
    }
   ],
   "source": [
    "'''2. Scenario: A survey is conducted to measure customer satisfaction on a scale of 1 to 5. \n",
    "  The data collected is as follows:\n",
    "   [4, 5, 2, 3, 5, 4, 3, 2, 4, 5]\n",
    "   Calculate the mode of the survey responses.\n",
    "'''\n",
    "import statistics\n",
    "data=[4, 5, 2, 3, 5, 4, 3, 2, 4, 5]\n",
    "print(\"the mode of the survey responses is:\",statistics.mode(data))"
   ]
  },
  {
   "cell_type": "code",
   "execution_count": 9,
   "id": "a95d892b",
   "metadata": {},
   "outputs": [
    {
     "name": "stdout",
     "output_type": "stream",
     "text": [
      "median sales for  region A: 5750.0\n",
      "median sales for  region B: 5500.0\n"
     ]
    }
   ],
   "source": [
    "'''3. Scenario: A company wants to compare the salaries of two departments. \n",
    "   The salary data for Department A and Department B are as follows:\n",
    "   Department A: [5000, 6000, 5500, 7000]\n",
    "   Department B: [4500, 5500, 5800, 6000, 5200]\n",
    "   Calculate the median salary for each department.\n",
    "'''\n",
    "import numpy as np\n",
    "\n",
    "Department_A=[5000, 6000, 5500, 7000]\n",
    "Department_B=[4500, 5500, 5800, 6000, 5200]\n",
    "print(\"median sales for  region A:\",np.median(Department_A))\n",
    "print(\"median sales for  region B:\",np.median(Department_B))"
   ]
  },
  {
   "cell_type": "code",
   "execution_count": 1,
   "id": "ad9bfefd",
   "metadata": {},
   "outputs": [
    {
     "name": "stdout",
     "output_type": "stream",
     "text": [
      "Range of stock prices: 1.3000000000000007\n"
     ]
    }
   ],
   "source": [
    "'''4. Scenario: A data analyst wants to determine the variability in the daily stock prices of a company. \n",
    "   The data collected is as follows:\n",
    "   [25.5, 24.8, 26.1, 25.3, 24.9]\n",
    "   Calculate the range of the stock prices.\n",
    "'''\n",
    "stock_prices = [25.5, 24.8, 26.1, 25.3, 24.9]\n",
    "\n",
    "price_range = max(stock_prices) - min(stock_prices)\n",
    "\n",
    "print(\"Range of stock prices:\", price_range)\n"
   ]
  },
  {
   "cell_type": "code",
   "execution_count": 2,
   "id": "8a2ba33c",
   "metadata": {},
   "outputs": [
    {
     "name": "stdout",
     "output_type": "stream",
     "text": [
      "T-Statistic: 1.4312528946642733\n",
      "P-Value: 0.19023970239078333\n",
      "There is no significant difference in the mean scores between the two groups.\n"
     ]
    }
   ],
   "source": [
    "'''5. Scenario: A study is conducted to compare the performance of two different teaching methods. \n",
    "   The test scores of the students in each group are as follows:\n",
    "   Group A: [85, 90, 92, 88, 91]\n",
    "   Group B: [82, 88, 90, 86, 87]\n",
    "   Perform a t-test to determine if there is a significant difference in the mean scores between the two groups.\n",
    "'''\n",
    "import numpy as np\n",
    "from scipy import stats\n",
    "\n",
    "# Test scores for Group A and Group B\n",
    "group_a_scores = [85, 90, 92, 88, 91]\n",
    "group_b_scores = [82, 88, 90, 86, 87]\n",
    "\n",
    "# Perform a two-sample t-test\n",
    "t_statistic, p_value = stats.ttest_ind(group_a_scores, group_b_scores)\n",
    "\n",
    "alpha = 0.05  # Significance level\n",
    "\n",
    "print(\"T-Statistic:\", t_statistic)\n",
    "print(\"P-Value:\", p_value)\n",
    "\n",
    "if p_value < alpha:\n",
    "    print(\"There is a significant difference in the mean scores between the two groups.\")\n",
    "else:\n",
    "    print(\"There is no significant difference in the mean scores between the two groups.\")\n"
   ]
  },
  {
   "cell_type": "code",
   "execution_count": 11,
   "id": "c28234b5",
   "metadata": {},
   "outputs": [
    {
     "name": "stdout",
     "output_type": "stream",
     "text": [
      "Correlation Coefficient: 0.8757511375750132\n"
     ]
    }
   ],
   "source": [
    "'''6. Scenario: A company wants to analyze the relationship between advertising expenditure and sales. \n",
    "   The data collected is as follows:\n",
    "   Advertising Expenditure (in thousands): [10, 15, 12, 8, 14]\n",
    "   Sales (in thousands): [25, 30, 28, 20, 26]\n",
    "   Calculate the correlation coefficient between advertising expenditure and sales.'''\n",
    "import numpy as np\n",
    "\n",
    "# Advertising Expenditure (in thousands)\n",
    "advertising_expenditure = [10, 15, 12, 8, 14]\n",
    "\n",
    "# Sales (in thousands)\n",
    "sales = [25, 30, 28, 20, 26]\n",
    "\n",
    "# Calculate the correlation coefficient\n",
    "correlation_coefficient = np.corrcoef(advertising_expenditure, sales)[0, 1]\n",
    "\n",
    "print(\"Correlation Coefficient:\", correlation_coefficient)\n"
   ]
  },
  {
   "cell_type": "code",
   "execution_count": 12,
   "id": "b398d722",
   "metadata": {},
   "outputs": [
    {
     "name": "stdout",
     "output_type": "stream",
     "text": [
      "Standard Deviation of Heights: 7.953949089757174\n"
     ]
    }
   ],
   "source": [
    "'''7. Scenario: A survey is conducted to measure the heights of a group of people. \n",
    "   The data collected is as follows:\n",
    "   [160, 170, 165, 155, 175, 180, 170]\n",
    "   Calculate the standard deviation of the heights.'''\n",
    "import numpy as np\n",
    "\n",
    "heights = [160, 170, 165, 155, 175, 180, 170]\n",
    "\n",
    "# Calculate the standard deviation\n",
    "std_dev = np.std(heights)\n",
    "\n",
    "print(\"Standard Deviation of Heights:\", std_dev)\n"
   ]
  },
  {
   "cell_type": "code",
   "execution_count": 13,
   "id": "00238535",
   "metadata": {},
   "outputs": [
    {
     "name": "stdout",
     "output_type": "stream",
     "text": [
      "employee_tenure: [[2]\n",
      " [3]\n",
      " [5]\n",
      " [4]\n",
      " [6]\n",
      " [2]\n",
      " [4]]\n",
      "job_satisfaction: [7 8 6 9 5 7 6]\n",
      "Intercept: 8.595744680851062\n",
      "Coefficient: -0.4680851063829787\n"
     ]
    },
    {
     "data": {
      "image/png": "[encoded data removed]",
      "text/plain": [
       "<Figure size 640x480 with 1 Axes>"
      ]
     },
     "metadata": {},
     "output_type": "display_data"
    }
   ],
   "source": [
    "'''8. Scenario: A company wants to analyze the relationship between employee tenure and job satisfaction.\n",
    "   The data collected is as follows:\n",
    "   Employee Tenure (in years): [2, 3, 5, 4, 6, 2, 4]\n",
    "   Job Satisfaction (on a scale of 1 to 10): [7, 8, 6, 9, 5, 7, 6]\n",
    "   Perform a linear regression analysis to predict job satisfaction based on employee tenure.'''\n",
    "import numpy as np\n",
    "import matplotlib.pyplot as plt\n",
    "from sklearn.linear_model import LinearRegression\n",
    "\n",
    "# Given data\n",
    "employee_tenure = np.array([2, 3, 5, 4, 6, 2, 4]).reshape(-1, 1)\n",
    "job_satisfaction = np.array([7, 8, 6, 9, 5, 7, 6])\n",
    "print(\"employee_tenure:\",employee_tenure)\n",
    "print(\"job_satisfaction:\",job_satisfaction)\n",
    "\n",
    "# Create a linear regression model\n",
    "model = LinearRegression()\n",
    "\n",
    "# Fit the model to the data\n",
    "model.fit(employee_tenure, job_satisfaction)\n",
    "\n",
    "# Make predictions\n",
    "predicted_satisfaction = model.predict(employee_tenure)\n",
    "\n",
    "# Print the coefficients\n",
    "print(\"Intercept:\", model.intercept_)\n",
    "print(\"Coefficient:\", model.coef_[0])\n",
    "\n",
    "# Plot the data and regression line\n",
    "plt.scatter(employee_tenure, job_satisfaction, label=\"Data Points\")\n",
    "plt.plot(employee_tenure, predicted_satisfaction, color='red', label=\"Regression Line\")\n",
    "plt.xlabel(\"Employee Tenure (years)\")\n",
    "plt.ylabel(\"Job Satisfaction\")\n",
    "plt.title(\"Linear Regression Analysis\")\n",
    "plt.legend()\n",
    "plt.show()\n"
   ]
  },
  {
   "cell_type": "code",
   "execution_count": 15,
   "id": "06eb6cd6",
   "metadata": {},
   "outputs": [
    {
     "name": "stdout",
     "output_type": "stream",
     "text": [
      "Analysis of Variance (ANOVA) Results:\n",
      "===================================\n",
      "F-Statistic: 16.0\n",
      "P-value: 0.003949772803445326\n",
      "Conclusion: There is a significant difference in mean recovery times between the two medications.\n"
     ]
    }
   ],
   "source": [
    "'''9. Scenario: A study is conducted to compare the effectiveness of two different medications. \n",
    "   The recovery times of the patients in each group are as follows:\n",
    "   Medication A: [10, 12, 14, 11, 13]\n",
    "   Medication B: [15, 17, 16, 14, 18]\n",
    "   Perform an analysis of variance (ANOVA) to determine if there is a significant difference in the mean \n",
    "   recovery times between the two medications.\n",
    "'''\n",
    "import numpy as np\n",
    "from scipy.stats import f_oneway\n",
    "\n",
    "# Recovery times of patients for Medication A and Medication B\n",
    "medication_a = np.array([10, 12, 14, 11, 13])\n",
    "medication_b = np.array([15, 17, 16, 14, 18])\n",
    "\n",
    "# Perform one-way ANOVA\n",
    "statistic, p_value = f_oneway(medication_a, medication_b)\n",
    "\n",
    "# Define significance level (alpha)\n",
    "alpha = 0.05\n",
    "\n",
    "# Print the results\n",
    "print(\"Analysis of Variance (ANOVA) Results:\")\n",
    "print(\"===================================\")\n",
    "print(\"F-Statistic:\", statistic)\n",
    "print(\"P-value:\", p_value)\n",
    "\n",
    "if p_value < alpha:\n",
    "    print(\"Conclusion: There is a significant difference in mean recovery times between the two medications.\")\n",
    "else:\n",
    "    print(\"Conclusion: There is no significant difference in mean recovery times between the two medications.\")\n"
   ]
  },
  {
   "cell_type": "code",
   "execution_count": 19,
   "id": "7ad9c342",
   "metadata": {},
   "outputs": [
    {
     "data": {
      "image/png": "[encoded data removed]",
      "text/plain": [
       "<Figure size 640x480 with 1 Axes>"
      ]
     },
     "metadata": {},
     "output_type": "display_data"
    },
    {
     "name": "stdout",
     "output_type": "stream",
     "text": [
      "75th percentile: 8.75\n"
     ]
    }
   ],
   "source": [
    "'''10. Scenario: A company wants to analyze customer feedback ratings on a scale of 1 to 10. \n",
    "    The data collected is as follows:\n",
    "    [8, 9, 7, 6, 8, 10, 9, 8, 7, 8]\n",
    "    Calculate the 75th percentile of the feedback ratings.\n",
    "'''\n",
    "import numpy as np\n",
    "import matplotlib.pyplot as plt\n",
    "\n",
    "feedback_ratings = [8, 9, 7, 6, 8, 10, 9, 8, 7, 8]\n",
    "\n",
    "# Calculate the 75th percentile\n",
    "percentile_75 = np.percentile(feedback_ratings, 75)\n",
    "\n",
    "# Create a box plot\n",
    "plt.boxplot(feedback_ratings, vert=False)\n",
    "plt.title(\"Customer Feedback Ratings Box Plot\")\n",
    "plt.xlabel(\"Rating\")\n",
    "plt.ylabel(\"Feedback Ratings\")\n",
    "plt.axvline(x=percentile_75, color='r', linestyle='--', label='75th Percentile')\n",
    "plt.legend()\n",
    "plt.show()\n",
    "\n",
    "print(\"75th percentile:\", percentile_75)\n"
   ]
  },
  {
   "cell_type": "code",
   "execution_count": 20,
   "id": "f0ad8555",
   "metadata": {},
   "outputs": [
    {
     "name": "stdout",
     "output_type": "stream",
     "text": [
      "Fail to reject the null hypothesis: The mean weight does not differ significantly from 10 grams.\n",
      "t-statistic: 1.5126584522688367\n",
      "p-value: 0.19077595151110102\n"
     ]
    }
   ],
   "source": [
    "'''11. Scenario: A quality control department wants to test the weight consistency of a product. \n",
    "    The weights of a sample of products are as follows:\n",
    "    [10.2, 9.8, 10.0, 10.5, 10.3, 10.1]\n",
    "    Perform a hypothesis test to determine if the mean weight differs significantly from 10 grams.\n",
    "'''\n",
    "import numpy as np\n",
    "from scipy.stats import ttest_1samp\n",
    "\n",
    "# Given weights\n",
    "weights = [10.2, 9.8, 10.0, 10.5, 10.3, 10.1]\n",
    "\n",
    "# Null hypothesis: The mean weight is equal to 10 grams\n",
    "null_mean = 10.0\n",
    "\n",
    "# Perform one-sample t-test\n",
    "t_statistic, p_value = ttest_1samp(weights, null_mean)\n",
    "\n",
    "# Define significance level (alpha)\n",
    "alpha = 0.05\n",
    "\n",
    "# Check if p-value is less than alpha\n",
    "if p_value < alpha:\n",
    "    print(\"Reject the null hypothesis: The mean weight differs significantly from 10 grams.\")\n",
    "else:\n",
    "    print(\"Fail to reject the null hypothesis: The mean weight does not differ significantly from 10 grams.\")\n",
    "\n",
    "# Print t-statistic and p-value\n",
    "print(\"t-statistic:\", t_statistic)\n",
    "print(\"p-value:\", p_value)\n"
   ]
  },
  {
   "cell_type": "code",
   "execution_count": 1,
   "id": "ecef2ceb",
   "metadata": {},
   "outputs": [
    {
     "name": "stdout",
     "output_type": "stream",
     "text": [
      "Chi-square statistic: 6.110658166925435\n",
      "Degrees of freedom: 4\n",
      "p-value: 0.19103526314060293\n",
      "Expected frequencies table:\n",
      " [[ 96.06217617 109.40414508 106.7357513   98.73056995 104.06735751]\n",
      " [ 83.93782383  95.59585492  93.2642487   86.26943005  90.93264249]]\n",
      "Fail to reject the null hypothesis: There is no significant difference in click-through rates between the two designs.\n"
     ]
    }
   ],
   "source": [
    "'''12. Scenario: A company wants to analyze the click-through rates of two different website designs. \n",
    "    The number of clicks for each design is as follows:\n",
    "    Design A: [100, 120, 110, 90, 95]\n",
    "    Design B: [80, 85, 90, 95, 100]\n",
    "    Perform a chi-square test to determine if there is a significant difference in the click-through rates \n",
    "    between the two designs.\n",
    "'''\n",
    "import numpy as np\n",
    "from scipy.stats import chi2_contingency\n",
    "\n",
    "# Click-through rates for Design A and Design B\n",
    "design_a = [100, 120, 110, 90, 95]\n",
    "design_b = [80, 85, 90, 95, 100]\n",
    "\n",
    "# Create an observed frequency table\n",
    "observed_freq = np.array([design_a, design_b])\n",
    "\n",
    "# Perform the chi-square test\n",
    "chi2_stat, p_val, dof, expected = chi2_contingency(observed_freq)\n",
    "\n",
    "# Print the results\n",
    "print(\"Chi-square statistic:\", chi2_stat)\n",
    "print(\"Degrees of freedom:\", dof)\n",
    "print(\"p-value:\", p_val)\n",
    "print(\"Expected frequencies table:\\n\", expected)\n",
    "\n",
    "# Determine the significance level\n",
    "alpha = 0.05\n",
    "\n",
    "# Compare p-value with alpha\n",
    "if p_val < alpha:\n",
    "    print(\"Reject the null hypothesis: There is a significant difference in click-through rates between the two designs.\")\n",
    "else:\n",
    "    print(\"Fail to reject the null hypothesis: There is no significant difference in click-through rates between the two designs.\")\n"
   ]
  },
  {
   "cell_type": "code",
   "execution_count": null,
   "id": "a9534043",
   "metadata": {},
   "outputs": [],
   "source": [
    "'''13. Scenario: A survey is conducted to measure customer satisfaction with a product on a scale of 1 to 10. \n",
    "    The data collected is as follows:\n",
    "    [7, 9, 6, 8, 10, 7, 8, 9, 7, 8]\n",
    "    Calculate the 95% confidence interval for the population mean satisfaction score.\n",
    "'''\n",
    "import numpy as np\n",
    "import scipy.stats as stats\n",
    "\n",
    "# Data\n",
    "data = [7, 9, 6, 8, 10, 7, 8, 9, 7, 8]\n",
    "\n",
    "# Calculate sample mean and standard deviation\n",
    "sample_mean = np.mean(data)\n",
    "sample_std = np.std(data, ddof=1)  # ddof=1 for sample standard deviation\n",
    "\n",
    "# Calculate t-score for 95% confidence interval (two-tailed)\n",
    "confidence_level = 0.95\n",
    "alpha = 1 - confidence_level\n",
    "degrees_freedom = len(data) - 1\n",
    "t_score = stats.t.ppf(1 - alpha / 2, df=degrees_freedom)\n",
    "\n",
    "# Calculate margin of error\n",
    "margin_of_error = t_score * (sample_std / np.sqrt(len(data)))\n",
    "\n",
    "# Calculate confidence interval\n",
    "confidence_interval = (sample_mean - margin_of_error, sample_mean + margin_of_error)\n",
    "\n",
    "print(\"Sample Mean:\", sample_mean)\n",
    "print(\"Confidence Interval:\", confidence_interval)\n"
   ]
  },
  {
   "cell_type": "code",
   "execution_count": 1,
   "id": "d8c614ba",
   "metadata": {},
   "outputs": [
    {
     "name": "stdout",
     "output_type": "stream",
     "text": [
      "Slope (Coefficient): 0.4999999999999999\n",
      "Intercept: -2.8999999999999986\n",
      "Predicted Performance: [9.1]\n"
     ]
    }
   ],
   "source": [
    "'''14. Scenario: A company wants to analyze the effect of temperature on product performance. \n",
    "    The data collected is as follows:\n",
    "    Temperature (in degrees Celsius): [20, 22, 23, 19, 21]\n",
    "    Performance (on a scale of 1 to 10): [8, 7, 9, 6, 8]\n",
    "    Perform a simple linear regression to predict performance based on temperature.\n",
    "'''\n",
    "import numpy as np\n",
    "from sklearn.linear_model import LinearRegression\n",
    "\n",
    "# Data\n",
    "temperature = np.array([20, 22, 23, 19, 21]).reshape(-1, 1)  # Reshape to a column vector\n",
    "performance = np.array([8, 7, 9, 6, 8])\n",
    "\n",
    "# Create a linear regression model\n",
    "model = LinearRegression()\n",
    "\n",
    "# Fit the model to the data\n",
    "model.fit(temperature, performance)\n",
    "\n",
    "# Coefficients (slope and intercept)\n",
    "slope = model.coef_[0]\n",
    "intercept = model.intercept_\n",
    "\n",
    "print(\"Slope (Coefficient):\", slope)\n",
    "print(\"Intercept:\", intercept)\n",
    "\n",
    "# Predict performance for a new temperature value\n",
    "new_temperature = np.array([[24]])  # Predict for temperature 24 degrees Celsius\n",
    "predicted_performance = model.predict(new_temperature)\n",
    "\n",
    "print(\"Predicted Performance:\", predicted_performance)\n"
   ]
  },
  {
   "cell_type": "code",
   "execution_count": 2,
   "id": "27f5b3ab",
   "metadata": {},
   "outputs": [
    {
     "name": "stdout",
     "output_type": "stream",
     "text": [
      "Mann-Whitney U test results:\n",
      "Statistic: 17.0\n",
      "P-value: 0.380836480306712\n",
      "There is no significant difference between the two groups.\n"
     ]
    }
   ],
   "source": [
    "'''15. Scenario: A study is conducted to compare the preferences of two groups of participants. \n",
    "    The preferences are measured on a Likert scale from 1 to 5. The data collected is as follows:\n",
    "    Group A: [4, 3, 5, 2, 4]\n",
    "    Group B: [3, 2, 4, 3, 3]\n",
    "    Perform a Mann-Whitney U test to determine if there is a significant difference in the median preferences \n",
    "    between the two groups.\n",
    "'''\n",
    "import scipy.stats as stats\n",
    "\n",
    "# Data for Group A and Group B\n",
    "group_a = [4, 3, 5, 2, 4]\n",
    "group_b = [3, 2, 4, 3, 3]\n",
    "\n",
    "# Perform Mann-Whitney U test\n",
    "statistic, p_value = stats.mannwhitneyu(group_a, group_b, alternative='two-sided')\n",
    "\n",
    "# Print the results\n",
    "print(\"Mann-Whitney U test results:\")\n",
    "print(f\"Statistic: {statistic}\")\n",
    "print(f\"P-value: {p_value}\")\n",
    "\n",
    "# Determine if there is a significant difference\n",
    "alpha = 0.05\n",
    "if p_value < alpha:\n",
    "    print(\"There is a significant difference between the two groups.\")\n",
    "else:\n",
    "    print(\"There is no significant difference between the two groups.\")\n"
   ]
  },
  {
   "cell_type": "code",
   "execution_count": 3,
   "id": "fe57feba",
   "metadata": {},
   "outputs": [
    {
     "name": "stdout",
     "output_type": "stream",
     "text": [
      "Interquartile Range (IQR) of ages: 22.5\n"
     ]
    }
   ],
   "source": [
    "'''16. Scenario: A company wants to analyze the distribution of customer ages. The data collected is as follows:\n",
    "    [25, 30, 35, 40, 45, 50, 55, 60, 65, 70]\n",
    "    Calculate the interquartile range (IQR) of the ages.\n",
    "'''\n",
    "import numpy as np\n",
    "\n",
    "ages = [25, 30, 35, 40, 45, 50, 55, 60, 65, 70]\n",
    "q1 = np.percentile(ages, 25)\n",
    "q3 = np.percentile(ages, 75)\n",
    "iqr = q3 - q1\n",
    "\n",
    "print(\"Interquartile Range (IQR) of ages:\", iqr)\n"
   ]
  },
  {
   "cell_type": "code",
   "execution_count": 4,
   "id": "ccea9b1b",
   "metadata": {},
   "outputs": [
    {
     "name": "stdout",
     "output_type": "stream",
     "text": [
      "Kruskal-Wallis Test Statistic: 9.696947935368053\n",
      "P-value: 0.007840333026249539\n",
      "There is a significant difference in the median accuracy scores between the algorithms.\n"
     ]
    }
   ],
   "source": [
    "'''17. Scenario: A study is conducted to compare the performance of three different machine learning algorithms. \n",
    "    The accuracy scores for each algorithm are as follows:\n",
    "    Algorithm A: [0.85, 0.80, 0.82, 0.87, 0.83]\n",
    "    Algorithm B: [0.78, 0.82, 0.84, 0.80, 0.79]\n",
    "    Algorithm C: [0.90, 0.88, 0.89, 0.86, 0.87]\n",
    "    Perform a Kruskal-Wallis test to determine if there is a significant difference in the median accuracy \n",
    "    scores between the algorithms.\n",
    "'''\n",
    "import numpy as np\n",
    "from scipy.stats import kruskal\n",
    "\n",
    "# Accuracy scores for each algorithm\n",
    "algorithm_a = np.array([0.85, 0.80, 0.82, 0.87, 0.83])\n",
    "algorithm_b = np.array([0.78, 0.82, 0.84, 0.80, 0.79])\n",
    "algorithm_c = np.array([0.90, 0.88, 0.89, 0.86, 0.87])\n",
    "\n",
    "# Perform Kruskal-Wallis test\n",
    "statistic, p_value = kruskal(algorithm_a, algorithm_b, algorithm_c)\n",
    "\n",
    "# Significance level (alpha)\n",
    "alpha = 0.05\n",
    "\n",
    "# Print the results\n",
    "print(f\"Kruskal-Wallis Test Statistic: {statistic}\")\n",
    "print(f\"P-value: {p_value}\")\n",
    "\n",
    "if p_value < alpha:\n",
    "    print(\"There is a significant difference in the median accuracy scores between the algorithms.\")\n",
    "else:\n",
    "    print(\"There is no significant difference in the median accuracy scores between the algorithms.\")\n"
   ]
  },
  {
   "cell_type": "code",
   "execution_count": 5,
   "id": "7b683cab",
   "metadata": {},
   "outputs": [
    {
     "name": "stdout",
     "output_type": "stream",
     "text": [
      "Coefficient (slope): -3.506097560975611\n",
      "Intercept: 136.3719512195122\n",
      "Predicted Sales for Price 11: 97.80487804878048\n",
      "Predicted Sales for Price 13: 90.79268292682926\n",
      "Predicted Sales for Price 16: 80.27439024390242\n"
     ]
    }
   ],
   "source": [
    "'''18. Scenario: A company wants to analyze the effect of price on sales. The data collected is as follows:\n",
    "    Price (in dollars): [10, 15, 12, 8, 14]\n",
    "    Sales: [100, 80, 90, 110, 95]\n",
    "    Perform a simple linear regression to predict\n",
    "\n",
    " sales based on price.'''\n",
    "import numpy as np\n",
    "from sklearn.linear_model import LinearRegression\n",
    "\n",
    "# Data\n",
    "price = np.array([10, 15, 12, 8, 14]).reshape(-1, 1)\n",
    "sales = np.array([100, 80, 90, 110, 95])\n",
    "\n",
    "# Create a linear regression model\n",
    "model = LinearRegression()\n",
    "\n",
    "# Fit the model to the data\n",
    "model.fit(price, sales)\n",
    "\n",
    "# Predict sales for new prices\n",
    "new_prices = np.array([11, 13, 16]).reshape(-1, 1)\n",
    "predicted_sales = model.predict(new_prices)\n",
    "\n",
    "# Print the coefficients and intercept\n",
    "print(\"Coefficient (slope):\", model.coef_[0])\n",
    "print(\"Intercept:\", model.intercept_)\n",
    "\n",
    "# Print predicted sales for new prices\n",
    "for i in range(len(new_prices)):\n",
    "    print(f\"Predicted Sales for Price {new_prices[i][0]}: {predicted_sales[i]}\")\n"
   ]
  },
  {
   "cell_type": "code",
   "execution_count": 6,
   "id": "7a058a9c",
   "metadata": {},
   "outputs": [
    {
     "name": "stdout",
     "output_type": "stream",
     "text": [
      "Standard Error of the Mean: 0.30550504633038933\n"
     ]
    }
   ],
   "source": [
    "'''19. Scenario: A survey is conducted to measure the satisfaction levels of customers with a new product. \n",
    "    The data collected is as follows:\n",
    "    [7, 8, 9, 6, 8, 7, 9, 7, 8, 7]\n",
    "    Calculate the standard error of the mean satisfaction score.\n",
    "'''\n",
    "import statistics\n",
    "\n",
    "data = [7, 8, 9, 6, 8, 7, 9, 7, 8, 7]\n",
    "\n",
    "# Calculate the standard error of the mean\n",
    "standard_error = statistics.stdev(data) / (len(data) ** 0.5)\n",
    "\n",
    "print(\"Standard Error of the Mean:\", standard_error)\n"
   ]
  },
  {
   "cell_type": "code",
   "execution_count": 7,
   "id": "a16cfdc1",
   "metadata": {},
   "outputs": [
    {
     "name": "stdout",
     "output_type": "stream",
     "text": [
      "Coefficients: [1.15243902]\n",
      "Intercept: 12.201219512195118\n",
      "Predicted Sales: [23.72560976 29.48780488 26.0304878  21.42073171 28.33536585]\n"
     ]
    }
   ],
   "source": [
    "'''20. Scenario: A company wants to analyze the relationship between advertising expenditure and sales.\n",
    "    The data collected is as follows:\n",
    "    Advertising Expenditure (in thousands): [10, 15, 12, 8, 14]\n",
    "    Sales (in thousands): [25, 30, 28, 20, 26]\n",
    "    Perform a multiple regression analysis to predict sales based on advertising expenditure.\n",
    "\n",
    "\n",
    "'''\n",
    "import numpy as np\n",
    "from sklearn.linear_model import LinearRegression\n",
    "\n",
    "# Given data\n",
    "advertising_expenditure = np.array([10, 15, 12, 8, 14]).reshape(-1, 1)  # Reshape to a column vector\n",
    "sales = np.array([25, 30, 28, 20, 26])\n",
    "\n",
    "# Initialize and fit the linear regression model\n",
    "model = LinearRegression()\n",
    "model.fit(advertising_expenditure, sales)\n",
    "\n",
    "# Predict sales based on advertising expenditure\n",
    "predicted_sales = model.predict(advertising_expenditure)\n",
    "\n",
    "# Print the coefficients and intercept\n",
    "print(\"Coefficients:\", model.coef_)\n",
    "print(\"Intercept:\", model.intercept_)\n",
    "\n",
    "# Print the predicted sales\n",
    "print(\"Predicted Sales:\", predicted_sales)\n"
   ]
  },
  {
   "cell_type": "code",
   "execution_count": null,
   "id": "3f8f0144",
   "metadata": {},
   "outputs": [],
   "source": []
  }
 ],
 "metadata": {
  "kernelspec": {
   "display_name": "Python 3 (ipykernel)",
   "language": "python",
   "name": "python3"
  },
  "language_info": {
   "codemirror_mode": {
    "name": "ipython",
    "version": 3
   },
   "file_extension": ".py",
   "mimetype": "text/x-python",
   "name": "python",
   "nbconvert_exporter": "python",
   "pygments_lexer": "ipython3",
   "version": "3.9.13"
  }
 },
 "nbformat": 4,
 "nbformat_minor": 5
}
